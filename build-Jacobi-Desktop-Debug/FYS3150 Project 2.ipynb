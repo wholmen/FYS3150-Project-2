{
 "metadata": {
  "name": "FYS3150 Project 2"
 },
 "nbformat": 3,
 "nbformat_minor": 0,
 "worksheets": [
  {
   "cells": [
    {
     "cell_type": "markdown",
     "metadata": {},
     "source": [
      "## FYS3150 - Project 2\n",
      "#### Fredrik Wilhelm Holmen\n",
      "\n",
      "### Introduction\n",
      "\n",
      "In this project I will compute a 3d oscillation system of consisting of two particles. First I will assume that the two particles do not interract through a Coloumb potential. In this case the problem can be solved as two independent eigenvalue equations. I will then look at the state where they interract. \n"
     ]
    },
    {
     "cell_type": "markdown",
     "metadata": {},
     "source": [
      "### Numerical eigenvalue problems\n",
      "To solve the eigenvalue problems I use two different algorithms. I use both a bang on Jacobi method on a NxN-matrix, and a solver optimised for a tridiagonal matrix. \n",
      "\n",
      "In the algorithm i find $tan(\\theta)$\u00a0by\n",
      "$$ tan(\\theta) = -\\tau \\pm \\sqrt{1+\\tau^2} $$ \n",
      "\n",
      "and\n",
      "$$ cos(\\theta) = \\frac{1}{\\sqrt{1+tan^2(\\theta)}} $$\n",
      "\n",
      "By choosing the smallest value for $tan(\\theta)$, I ensure that $cos(\\theta)$ will be as large as possible. When the difference between the norm of $ B = S^T A S$ $ $ $ $ and the norm of $ A$\u00a0is small, we know that the Jacobi method converges towards a diagonal matrix that is no longer affected by the rotation. The difference is given as:\n",
      "$$ || B - A ||^2_F = 4(1-c) \\sum_{i=1,i\\neq k,l}^{n} (a_{ik}^2 + a_{il}^2) + \\frac {2a_{kl}^2}{c^2} $$\n",
      "\n",
      "We see that a large cosine will both make the $4(1-c)$ small, and in addition reduce the value of $\\frac {2a_{kl}^2}{c^2}$. \n"
     ]
    },
    {
     "cell_type": "markdown",
     "metadata": {},
     "source": [
      "### Numerical stability\n",
      "\n",
      "We use $$u''(\\rho) = \\frac{u(\\rho +h) + u(\\rho -h) - 2u(\\rho)}{h^2} + O(h^2) $$\n",
      "\n",
      "to rewrite the Schrodinger equation, so we have an error going as $h^2$. If we want four correct leading digits for our eigenvalues, we need $ h \\leq 10^2 $. In this estimate I have not taken into account that there might be errors in the eigenvalue algorithms. \n",
      "\n",
      "$h$ is defined as $\\frac{\\rho _{max}}{N}$, and $\\rho _{max}\u00a0= \\frac{1}{\\alpha} r  $$ $ . We want $\\rho _{max}$ to be as large as possible (analytically it approaches infinity), but we see that we must increase $N$ if we increase $\\rho _{max}$, so the value is limited. If we choose $N=10^3$, $\\rho _{max}$ must be less than one. If we increase $N$\u00a0to $10^4$, we can have a $\\rho _{max}$ between $5$ and $10$. This is also physically acceptable, because we are between $5$ and $10$ times the bohr-radius away from origo. For the Jacobi method we will run into memory problems for a N larger than $10^4$ ."
     ]
    },
    {
     "cell_type": "markdown",
     "metadata": {},
     "source": [
      "### Looking at the eigenvalues produced by the self implemented Jacobi method. "
     ]
    },
    {
     "cell_type": "code",
     "collapsed": false,
     "input": [
      "from pylab import *\n",
      "title = \"Jacobi.txt\"\n",
      "a,b,t,N,n = readfile(title)\n",
      "\n",
      "print \"lambda1 = \", min(a); a.remove(min(a)); print \"lambda2 = \", min(a); a.remove(min(a)); print \"lambda3 = \", min(a)\n",
      "print \"The largest off-diagonal element is \", max(b)\n",
      "print \"The Jacobi method needed %.1f seconds and %.0f symmetry operations to converge for N = %.0f.\" %(t,n,N)"
     ],
     "language": "python",
     "metadata": {},
     "outputs": [
      {
       "output_type": "stream",
       "stream": "stdout",
       "text": [
        "lambda1 =  2.88836\n",
        "lambda2 =  6.82895\n",
        "lambda3 =  10.7813\n",
        "The largest off-diagonal element is  8.47283e-05\n",
        "The Jacobi method needed 0.0 seconds and 13246 symmetry operations to converge for N = 100.\n"
       ]
      }
     ],
     "prompt_number": 121
    },
    {
     "cell_type": "markdown",
     "metadata": {},
     "source": [
      "### The eigenvalues produced by the tqli function from \"lib.cpp\"."
     ]
    },
    {
     "cell_type": "code",
     "collapsed": false,
     "input": [
      "title = \"tqli.txt\"\n",
      "a,b,t,N,n = readfile(title)\n",
      "\n",
      "print \"lambda1 = \", min(a); a.remove(min(a)); print \"lambda2 = \", min(a); a.remove(min(a)); print \"lambda3 = \", min(a)\n",
      "print \"The largest off-diagonal element is \", max(b)\n",
      "print \"The Jacobi method needed %.1f seconds operations to converge for N = %.0f.\" %(t,N)"
     ],
     "language": "python",
     "metadata": {},
     "outputs": [
      {
       "output_type": "stream",
       "stream": "stdout",
       "text": [
        "lambda1 =  2.88836\n",
        "lambda2 =  6.82894\n",
        "lambda3 =  10.7813\n",
        "The largest off-diagonal element is  1.49367e-14\n",
        "The Jacobi method needed 0.0 seconds operations to converge for N = 100.\n"
       ]
      }
     ],
     "prompt_number": 122
    },
    {
     "cell_type": "markdown",
     "metadata": {},
     "source": [
      "### The eigenvalues produced when using tqli to solve the two particle system for varying wr"
     ]
    },
    {
     "cell_type": "code",
     "collapsed": false,
     "input": [
      "title = \"wr_0,01.txt\"\n",
      "a,b,c1,d1,e1 = readfile(title)\n",
      "print \"wr = 0.01\"; print \"lambda1 = \", min(a); a.remove(min(a)); print \"lambda2 = \", min(a); a.remove(min(a))\n",
      "print \"lambda3 = \", min(a); print \"The largest off-diagonal element is \", max(b); print \"-\"\n",
      "\n",
      "title = \"wr_0,5.txt\"\n",
      "a,b,c2,d2,e2 = readfile(title)\n",
      "print \"wr = 0.5\"; print \"lambda1 = \", min(a); a.remove(min(a)); print \"lambda2 = \", min(a); a.remove(min(a))\n",
      "print \"lambda3 = \", min(a); print \"The largest off-diagonal element is \", max(b); print \"-\"\n",
      "\n",
      "title = \"wr_1.txt\"\n",
      "a,b,c3,d3,e3 = readfile(title)\n",
      "print \"wr = 1\"; print \"lambda1 = \", min(a); a.remove(min(a)); print \"lambda2 = \", min(a); a.remove(min(a))\n",
      "print \"lambda3 = \", min(a); print \"The largest off-diagonal element is \", max(b); print \"-\"\n",
      "\n",
      "title = \"wr_5.txt\"\n",
      "a,b,c4,d4,e4 = readfile(title)\n",
      "print \"wr = 5\"; print \"lambda1 = \", min(a); a.remove(min(a)); print \"lambda2 = \", min(a); a.remove(min(a))\n",
      "print \"lambda3 = \", min(a); print \"The largest off-diagonal element is \", max(b);"
     ],
     "language": "python",
     "metadata": {},
     "outputs": [
      {
       "output_type": "stream",
       "stream": "stdout",
       "text": [
        "wr = 0.01\n",
        "lambda1 =  0.605095\n",
        "lambda2 =  2.41848\n",
        "lambda3 =  5.4388\n",
        "The largest off-diagonal element is  1.14969e-13\n",
        "-\n",
        "wr = 0.5\n",
        "lambda1 =  1.48075\n",
        "lambda2 =  3.71656\n",
        "lambda3 =  6.78275\n",
        "The largest off-diagonal element is  2.40569e-13\n",
        "-\n",
        "wr = 1\n",
        "lambda1 =  2.91054\n",
        "lambda2 =  6.86642\n",
        "lambda3 =  10.896\n",
        "The largest off-diagonal element is  6.15934e-14\n",
        "-\n",
        "wr = 5\n",
        "lambda1 =  14.0102\n",
        "lambda2 =  33.4586\n",
        "lambda3 =  52.993\n",
        "The largest off-diagonal element is  3.53348e-14\n"
       ]
      }
     ],
     "prompt_number": 68
    },
    {
     "cell_type": "code",
     "collapsed": false,
     "input": [
      "def readfile(title):\n",
      "    infile = open(title,'r')\n",
      "    a = []; b = []; c = []; d = []; e=[]\n",
      "    firstline = infile.readline()\n",
      "    firstlist = firstline.split()\n",
      "    t = float(firstlist[0]); N = float(firstlist[1]); n = float(firstlist[2])\n",
      "    for line in infile:\n",
      "        split = line.split()\n",
      "        a.append(float(split[0]))\n",
      "        b.append(float(split[1]))\n",
      "        if len(split) == 5:\n",
      "            c.append(float(split[2]))\n",
      "            d.append(float(split[3]))\n",
      "            e.append(float(split[4]))\n",
      "    infile.close()\n",
      "    if len(c) != 0:\n",
      "        return a,b,c,d,e\n",
      "    else:\n",
      "        return a,b,t,N,n"
     ],
     "language": "python",
     "metadata": {},
     "outputs": [],
     "prompt_number": 118
    },
    {
     "cell_type": "code",
     "collapsed": false,
     "input": [],
     "language": "python",
     "metadata": {},
     "outputs": []
    }
   ],
   "metadata": {}
  }
 ]
}